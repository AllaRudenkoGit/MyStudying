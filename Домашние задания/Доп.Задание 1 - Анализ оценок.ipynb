{
  "nbformat": 4,
  "nbformat_minor": 0,
  "metadata": {
    "colab": {
      "provenance": []
    },
    "kernelspec": {
      "name": "python3",
      "display_name": "Python 3"
    },
    "language_info": {
      "name": "python"
    }
  },
  "cells": [
    {
      "cell_type": "code",
      "source": [
        "import numpy as np\n",
        "from statistics import mean"
      ],
      "metadata": {
        "id": "S6mCqdkiLP3Q"
      },
      "execution_count": 19,
      "outputs": []
    },
    {
      "cell_type": "code",
      "source": [
        "balls = [5,3,4,2,5,4,3,5,4,2,3,4,5,3,4]\n",
        "statistics.mean(balls)"
      ],
      "metadata": {
        "id": "wDn7tZztEheT",
        "outputId": "eb7a9739-442d-4927-bf9b-92a12c6b22a4",
        "colab": {
          "base_uri": "https://localhost:8080/"
        }
      },
      "execution_count": 23,
      "outputs": [
        {
          "output_type": "execute_result",
          "data": {
            "text/plain": [
              "3.7333333333333334"
            ]
          },
          "metadata": {},
          "execution_count": 23
        }
      ]
    },
    {
      "cell_type": "code",
      "source": [
        "average = sum(balls) / len(balls)\n",
        "print(average)"
      ],
      "metadata": {
        "id": "qrJOBfAyNF8w",
        "outputId": "c1382201-f675-4ab8-a971-4f7fba7eec86",
        "colab": {
          "base_uri": "https://localhost:8080/"
        }
      },
      "execution_count": 29,
      "outputs": [
        {
          "output_type": "stream",
          "name": "stdout",
          "text": [
            "3.7333333333333334\n"
          ]
        }
      ]
    },
    {
      "cell_type": "code",
      "source": [
        "a = np.array([5,3,4,2,5,4,3,5,4,2,3,4,5,3,4])\n",
        "average_1 = np.mean(a)\n",
        "print(average_1)"
      ],
      "metadata": {
        "id": "Py5oaHt5OG6A",
        "outputId": "c99a1cde-268d-4548-c3cf-598dc89b3dce",
        "colab": {
          "base_uri": "https://localhost:8080/"
        }
      },
      "execution_count": 33,
      "outputs": [
        {
          "output_type": "stream",
          "name": "stdout",
          "text": [
            "3.7333333333333334\n"
          ]
        }
      ]
    },
    {
      "cell_type": "code",
      "source": [
        "my_list = [ 5,3,4,2,5,4,3,5,4,2,3,4,5,3,4]\n",
        "total = 0\n",
        "for element in my_list:\n",
        "  total += element\n",
        "\n",
        "average_2 = total / len(my_list)\n",
        "print (f\"Средний балл успеваемости: {average_2}\")"
      ],
      "metadata": {
        "colab": {
          "base_uri": "https://localhost:8080/"
        },
        "id": "qyFA5Z-C-Xb_",
        "outputId": "2bc0f52e-5023-49ae-cc61-4c2f8314f032"
      },
      "execution_count": 34,
      "outputs": [
        {
          "output_type": "stream",
          "name": "stdout",
          "text": [
            "Средний балл успеваемости: 3.7333333333333334\n"
          ]
        }
      ]
    },
    {
      "cell_type": "code",
      "source": [
        "x = 3\n",
        "count = 0\n",
        "for a in my_list:\n",
        "  if a<x:\n",
        "    count +=1\n",
        "print(f\"Неудовлетворительных оценок: {count}\")"
      ],
      "metadata": {
        "id": "bOVFCFQsEJmb",
        "outputId": "427e40ce-089d-4575-d5df-53864a506104",
        "colab": {
          "base_uri": "https://localhost:8080/"
        }
      },
      "execution_count": 36,
      "outputs": [
        {
          "output_type": "stream",
          "name": "stdout",
          "text": [
            "Неудовлетворительных оценок: 2\n"
          ]
        }
      ]
    },
    {
      "cell_type": "code",
      "source": [
        "y = 5\n",
        "count = 0\n",
        "for a in my_list:\n",
        "  if a==5:\n",
        "    count +=1\n",
        "print(f\"Отличных оценок: {count}\")"
      ],
      "metadata": {
        "id": "wJCY2domQlHD",
        "outputId": "aa666e38-b006-4243-81ce-1d56b20a9b27",
        "colab": {
          "base_uri": "https://localhost:8080/"
        }
      },
      "execution_count": 38,
      "outputs": [
        {
          "output_type": "stream",
          "name": "stdout",
          "text": [
            "Отличных оценок: 4\n"
          ]
        }
      ]
    }
  ]
}