{
  "cells": [
    {
      "cell_type": "markdown",
      "metadata": {
        "id": "view-in-github",
        "colab_type": "text"
      },
      "source": [
        "<a href=\"https://colab.research.google.com/github/AllaRudenkoGit/MyStudying/blob/main/%D0%94%D0%BE%D0%B1%D1%80%D0%BE_%D0%BF%D0%BE%D0%B6%D0%B0%D0%BB%D0%BE%D0%B2%D0%B0%D1%82%D1%8C_%D0%B2_Colab!.ipynb\" target=\"_parent\"><img src=\"https://colab.research.google.com/assets/colab-badge.svg\" alt=\"Open In Colab\"/></a>"
      ]
    },
    {
      "cell_type": "code",
      "source": [
        "class employee:\n",
        "  def __init__(self,id,name,position,base_salary):\n",
        "    self.id=id\n",
        "    self.name=name\n",
        "    self.position=position\n",
        "    self.base_salary=base_salary\n",
        "  def calculate_salary(self,base_salary):\n",
        "    self.base_salary=base_salary\n",
        "    return final_salary\n",
        ""
      ],
      "metadata": {
        "id": "wnD6Lm_khjpv"
      },
      "execution_count": 270,
      "outputs": []
    },
    {
      "cell_type": "code",
      "source": [
        "class manager(employee):\n",
        "  def __init__(self,id,position,base_salary,bonus):\n",
        "    super.__init__(id,name,position,base_salary)\n",
        "    self.base_salary\n",
        "  def calculate_final_salary(self):\n",
        "    final_salary=base_salary+bonus\n",
        "    print(\"Зарплата менеджера:\",final_salary)\n"
      ],
      "metadata": {
        "id": "WqNppmamjC0f"
      },
      "execution_count": 274,
      "outputs": []
    },
    {
      "cell_type": "code",
      "source": [
        "class developer(employee):\n",
        "  def __init__(self,id,name,position,hourly_rate,hours_worked):\n",
        "    super.__init__(id,name,position)\n",
        "    self.hourly_rate=hourly_rate\n",
        "    self.hours_worked=hours_worked\n",
        "  def calculate_final_salary(self):\n",
        "    final_salary=hours_worked*hourly_rate\n",
        "    print(\"Зарплата девелопера:\",final_salary)"
      ],
      "metadata": {
        "id": "N7iv4D8zjfV-"
      },
      "execution_count": 276,
      "outputs": []
    },
    {
      "cell_type": "code",
      "source": [
        "class intern(employee):\n",
        "  def __init__(self,id,name,position,base_salary):\n",
        "    super.__init__(id,name,position,base_salary)\n",
        "  def calculate_final_salary(self):\n",
        "    final_salary=base_salary/2\n",
        "    print(\"Зарплата интерна:\",final_salary)"
      ],
      "metadata": {
        "id": "kah35RZvl3D3"
      },
      "execution_count": 277,
      "outputs": []
    }
  ],
  "metadata": {
    "colab": {
      "name": "Добро пожаловать в Colab!",
      "provenance": [],
      "include_colab_link": true
    },
    "kernelspec": {
      "display_name": "Python 3",
      "name": "python3"
    }
  },
  "nbformat": 4,
  "nbformat_minor": 0
}