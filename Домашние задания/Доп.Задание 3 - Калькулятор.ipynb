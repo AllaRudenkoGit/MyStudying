{
  "nbformat": 4,
  "nbformat_minor": 0,
  "metadata": {
    "colab": {
      "provenance": []
    },
    "kernelspec": {
      "name": "python3",
      "display_name": "Python 3"
    },
    "language_info": {
      "name": "python"
    }
  },
  "cells": [
    {
      "cell_type": "code",
      "source": [
        "try:\n",
        "  x = int(input(\"Введите первое число: \"))\n",
        "  y = int(input(\"Введите второе число: \"))\n",
        "  sign = str(input(\"Выберите операцию: + , - , * , / \"))\n",
        "  sign_sign =[\"+\",\"-\",\"*\",\"/\"]\n",
        "except ValueError:\n",
        "  print(\"Введены неверные данные. Попробуйте снова.\")\n",
        "\n"
      ],
      "metadata": {
        "id": "VvLFUutqZcc8",
        "outputId": "88f1fc39-1611-402e-cec5-c93ab13f38e3",
        "colab": {
          "base_uri": "https://localhost:8080/"
        }
      },
      "execution_count": 120,
      "outputs": [
        {
          "name": "stdout",
          "output_type": "stream",
          "text": [
            "Введите первое число: 5\n",
            "Введите второе число: 6\n",
            "Выберите операцию: + , - , * , / *\n"
          ]
        }
      ]
    },
    {
      "cell_type": "code",
      "source": [
        "if sign == \"+\":\n",
        "  print(x+y)\n",
        "if sign == \"-\":\n",
        "  print(x-y)\n",
        "if sign == \"*\":\n",
        "  print(x*y)\n",
        "if sign == \"/\":\n",
        "  if y == 0:\n",
        "   print(\"Делить на ноль нельзя.Введите другое число или выберите другое действие.\")\n",
        "  else:\n",
        "    print(x/y)\n",
        "if sign not in sign_sign:\n",
        "  print(\"Выбрана неизвестная операция\")"
      ],
      "metadata": {
        "id": "wug_FT_ybWU6",
        "outputId": "68b72788-d8c6-4b87-d337-916b0d7f5cb3",
        "colab": {
          "base_uri": "https://localhost:8080/"
        }
      },
      "execution_count": 121,
      "outputs": [
        {
          "output_type": "stream",
          "name": "stdout",
          "text": [
            "30\n"
          ]
        }
      ]
    }
  ]
}