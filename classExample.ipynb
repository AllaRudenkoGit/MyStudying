{
  "nbformat": 4,
  "nbformat_minor": 0,
  "metadata": {
    "colab": {
      "provenance": [],
      "include_colab_link": true
    },
    "kernelspec": {
      "name": "python3",
      "display_name": "Python 3"
    },
    "language_info": {
      "name": "python"
    }
  },
  "cells": [
    {
      "cell_type": "markdown",
      "metadata": {
        "id": "view-in-github",
        "colab_type": "text"
      },
      "source": [
        "<a href=\"https://colab.research.google.com/github/AllaRudenkoGit/MyStudying/blob/main/classExample.ipynb\" target=\"_parent\"><img src=\"https://colab.research.google.com/assets/colab-badge.svg\" alt=\"Open In Colab\"/></a>"
      ]
    },
    {
      "cell_type": "code",
      "source": [
        "from datetime import datetime,date,time"
      ],
      "metadata": {
        "id": "XJGvoT6I20mo"
      },
      "execution_count": null,
      "outputs": []
    },
    {
      "cell_type": "code",
      "execution_count": null,
      "metadata": {
        "id": "rXMD6G6huU4X"
      },
      "outputs": [],
      "source": [
        "class bankAccount:\n",
        "  def __init__(self,id,balance):\n",
        "    if(type(balance)==str):\n",
        "      balance=int(balance)\n",
        "    self.id=id\n",
        "    self.balance=balance\n",
        "    self.history=[]\n",
        "\n",
        "  def deposit(self,money):\n",
        "    if type(money)==int or money.isdigit():\n",
        "      money=int(money)\n",
        "      if(money>0):\n",
        "        self.balance=self.balance+money\n",
        "        print(\"Аккаунт пополнен\")\n",
        "        self.record(\"Пполнение\",money,datetime.now())\n",
        "      else:\n",
        "        print(\"Укажите положительное число\")\n",
        "    else:\n",
        "      print(\"Пожалуйста, укажите число\")\n",
        "\n",
        "  def withdraw(self,money):\n",
        "    if type(money)==int or money.isdigit():\n",
        "      money=int(money)\n",
        "      if(money>0 and self.balance>=money):\n",
        "        self.balance=self.balance-money\n",
        "        print(\"Сняли деньги с аккаунта\")\n",
        "        self.record(\"Снятие\",money,datetime.now())\n",
        "      else:\n",
        "        print(\"Укажите корректную сумму, которую вы хотите снять с аккаунта\")\n",
        "    else:\n",
        "      print(\"Пожалуйста, укажите число\")\n",
        "\n",
        "  def record(self,method,money,date):\n",
        "    operation={\n",
        "        \"Операция\":method,\n",
        "        \"Сумма\":money,\n",
        "        \"Дата\":date\n",
        "    }\n",
        "    self.history.append(operation)\n",
        "\n",
        "\n",
        "  def getBalance(self):\n",
        "    return self.balance\n",
        "\n",
        "  def getHistory(self):\n",
        "    print(self.history)"
      ]
    },
    {
      "cell_type": "code",
      "source": [
        "class savingsAccount(bankAccount):\n",
        "  def __init__(self,id,balance,interestRate=0.1):\n",
        "    super().__init__(id,balance)\n",
        "    self.interestRate=interestRate\n",
        "\n",
        "  def calculateInterest(self):\n",
        "    newBalance=self.balance+self.balance*self.interestRate\n",
        "    print(\"На счет пришли накопления по вкладу, новый балланс равен: \",newBalance)\n",
        "    self.balance=newBalance"
      ],
      "metadata": {
        "id": "49qqXF-J3iDx"
      },
      "execution_count": null,
      "outputs": []
    },
    {
      "cell_type": "code",
      "source": [
        "newAccount=bankAccount(\"1232151234\",450)"
      ],
      "metadata": {
        "id": "ZI9hySXUy15A"
      },
      "execution_count": null,
      "outputs": []
    },
    {
      "cell_type": "code",
      "source": [
        "newAccount.deposit(250)"
      ],
      "metadata": {
        "colab": {
          "base_uri": "https://localhost:8080/"
        },
        "id": "XVfcRhKMzDIC",
        "outputId": "7d4b9973-e9f7-444d-bf22-bf57f7740938"
      },
      "execution_count": null,
      "outputs": [
        {
          "output_type": "stream",
          "name": "stdout",
          "text": [
            "Аккаунт пополнен\n"
          ]
        }
      ]
    },
    {
      "cell_type": "code",
      "source": [
        "newAccount.deposit(\"200\")"
      ],
      "metadata": {
        "colab": {
          "base_uri": "https://localhost:8080/"
        },
        "id": "OvKG80SpzHRA",
        "outputId": "c81698d8-086c-48c8-aedf-6aa97a8ad7cf"
      },
      "execution_count": null,
      "outputs": [
        {
          "output_type": "stream",
          "name": "stdout",
          "text": [
            "Аккаунт пополнен\n"
          ]
        }
      ]
    },
    {
      "cell_type": "code",
      "source": [
        "newAccount.withdraw(\"598\")"
      ],
      "metadata": {
        "colab": {
          "base_uri": "https://localhost:8080/"
        },
        "id": "tDSebxN_094J",
        "outputId": "a029a19d-7ed0-4301-b8a8-415f9ed52e5a"
      },
      "execution_count": null,
      "outputs": [
        {
          "output_type": "stream",
          "name": "stdout",
          "text": [
            "Укажите корректную сумму, которую вы хотите снять с аккаунта\n"
          ]
        }
      ]
    },
    {
      "cell_type": "code",
      "source": [
        "newAccount.getBalance()"
      ],
      "metadata": {
        "colab": {
          "base_uri": "https://localhost:8080/"
        },
        "id": "6_FV4sX803dD",
        "outputId": "40a8fc09-551d-4198-fc24-b067fa03aa5e"
      },
      "execution_count": null,
      "outputs": [
        {
          "output_type": "execute_result",
          "data": {
            "text/plain": [
              "52"
            ]
          },
          "metadata": {},
          "execution_count": 34
        }
      ]
    },
    {
      "cell_type": "code",
      "source": [
        "newAccount.getHistory()"
      ],
      "metadata": {
        "colab": {
          "base_uri": "https://localhost:8080/"
        },
        "id": "YGy1BLi73S6s",
        "outputId": "e258a321-d68b-4df7-f820-5be30d36862f"
      },
      "execution_count": null,
      "outputs": [
        {
          "output_type": "stream",
          "name": "stdout",
          "text": [
            "[{'Операция': 'Пполнение', 'Сумма': 200, 'Дата': datetime.datetime(2025, 9, 30, 13, 43, 18, 822581)}, {'Операция': 'Пполнение', 'Сумма': 200, 'Дата': datetime.datetime(2025, 9, 30, 13, 43, 19, 535955)}, {'Операция': 'Пполнение', 'Сумма': 250, 'Дата': datetime.datetime(2025, 9, 30, 13, 43, 28, 728304)}]\n"
          ]
        }
      ]
    },
    {
      "cell_type": "code",
      "source": [
        "newSavingAccount=savingsAccount(\"1232151234\",450,0.2)"
      ],
      "metadata": {
        "id": "FNbNnFgN45fs"
      },
      "execution_count": null,
      "outputs": []
    },
    {
      "cell_type": "code",
      "source": [
        "newSavingAccount.calculateInterest()"
      ],
      "metadata": {
        "colab": {
          "base_uri": "https://localhost:8080/"
        },
        "id": "WEhPujBg5JwI",
        "outputId": "ef290666-1cd8-443f-cc81-9a05be555c2c"
      },
      "execution_count": null,
      "outputs": [
        {
          "output_type": "stream",
          "name": "stdout",
          "text": [
            "На счет пришли накопления по вкладу, новый балланс равен:  540.0\n"
          ]
        }
      ]
    },
    {
      "cell_type": "code",
      "source": [
        "newSavingAccount."
      ],
      "metadata": {
        "id": "qsGu1gQH5Vh2"
      },
      "execution_count": null,
      "outputs": []
    }
  ]
}