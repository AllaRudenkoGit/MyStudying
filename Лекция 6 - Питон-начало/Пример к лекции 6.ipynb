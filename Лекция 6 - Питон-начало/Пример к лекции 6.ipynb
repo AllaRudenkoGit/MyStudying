{
  "nbformat": 4,
  "nbformat_minor": 0,
  "metadata": {
    "colab": {
      "provenance": [],
      "include_colab_link": true
    },
    "kernelspec": {
      "name": "python3",
      "display_name": "Python 3"
    },
    "language_info": {
      "name": "python"
    }
  },
  "cells": [
    {
      "cell_type": "markdown",
      "metadata": {
        "id": "view-in-github",
        "colab_type": "text"
      },
      "source": [
        "<a href=\"https://colab.research.google.com/github/AllaRudenkoGit/MyStudying/blob/main/1_1.ipynb\" target=\"_parent\"><img src=\"https://colab.research.google.com/assets/colab-badge.svg\" alt=\"Open In Colab\"/></a>"
      ]
    },
    {
      "cell_type": "code",
      "source": [
        "# Ввод числа с клавиатуры\n",
        "number = int(input(\"Укажите команду: \"))\n",
        "\n",
        "# Вывод числа на экран\n",
        "print(\"Вы ввели число:\", number)\n"
      ],
      "metadata": {
        "colab": {
          "base_uri": "https://localhost:8080/"
        },
        "id": "whdm6GEY1YXj",
        "outputId": "e2239696-8093-4e8f-c724-ee39d31e8db4"
      },
      "execution_count": null,
      "outputs": [
        {
          "output_type": "stream",
          "name": "stdout",
          "text": [
            "Укажите команду: 20\n",
            "Вы ввели число: 20\n"
          ]
        }
      ]
    },
    {
      "cell_type": "code",
      "source": [
        "# Массив из 10 чисел и получение элемента по индексу. Индекс считается с 0\n",
        "\n",
        "my_array = [1, 2, 3, 4, 5, 6, 7, 8, 9, 2]\n",
        "element_at_index_5 = my_array[5]\n",
        "print(\"Элемент по 5 индексу:\", element_at_index_5)\n"
      ],
      "metadata": {
        "colab": {
          "base_uri": "https://localhost:8080/"
        },
        "id": "sJ9GwqhQWmOI",
        "outputId": "5a9712ee-e13e-4202-cd01-971f4a0d6927"
      },
      "execution_count": null,
      "outputs": [
        {
          "output_type": "stream",
          "name": "stdout",
          "text": [
            "Элемент по 5 индексу: 6\n"
          ]
        }
      ]
    },
    {
      "cell_type": "code",
      "source": [
        "# Словарь Страна:Столица\n",
        "\n",
        "countries_and_capitals = {\n",
        "    \"Россия\" : \"Москва\",\n",
        "    \"Франция\": \"Париж\",\n",
        "    \"Япония\": \"Токио\",\n",
        "    \"Германия\": \"Берлин\",\n",
        "    \"Канада\": \"Оттава\"\n",
        "}\n",
        "\n",
        "capital_of_france = countries_and_capitals[\"Франция\"]\n",
        "print(\"Столица Франции:\", capital_of_france)\n"
      ],
      "metadata": {
        "colab": {
          "base_uri": "https://localhost:8080/"
        },
        "id": "3dc9Y4bkW60-",
        "outputId": "60f6357c-0d13-4de0-fc9a-fba1605de9ee"
      },
      "execution_count": null,
      "outputs": [
        {
          "output_type": "stream",
          "name": "stdout",
          "text": [
            "Столица Франции: Париж\n"
          ]
        }
      ]
    },
    {
      "cell_type": "code",
      "source": [
        "#Кортеж- коллекция неизменяеммых данных\n",
        "my_tuple = (1, 2, \"hello\", 3.14)\n",
        "my_tuple[0]"
      ],
      "metadata": {
        "colab": {
          "base_uri": "https://localhost:8080/"
        },
        "id": "Tnczt9ZcoqMS",
        "outputId": "8c7788c0-5710-4651-ad43-c00fcd476d7b"
      },
      "execution_count": null,
      "outputs": [
        {
          "output_type": "execute_result",
          "data": {
            "text/plain": [
              "1"
            ]
          },
          "metadata": {},
          "execution_count": 17
        }
      ]
    },
    {
      "cell_type": "code",
      "source": [
        "#При попытке изменить элемент кортежа появляется ошибка\n",
        "my_tuple[0]=2"
      ],
      "metadata": {
        "colab": {
          "base_uri": "https://localhost:8080/",
          "height": 161
        },
        "id": "tML5vSn8ozoz",
        "outputId": "b1b9a543-ec90-458a-adbc-c12b70510bcb"
      },
      "execution_count": null,
      "outputs": [
        {
          "output_type": "error",
          "ename": "TypeError",
          "evalue": "'tuple' object does not support item assignment",
          "traceback": [
            "\u001b[0;31m---------------------------------------------------------------------------\u001b[0m",
            "\u001b[0;31mTypeError\u001b[0m                                 Traceback (most recent call last)",
            "\u001b[0;32m/tmp/ipython-input-779155250.py\u001b[0m in \u001b[0;36m<cell line: 0>\u001b[0;34m()\u001b[0m\n\u001b[1;32m      1\u001b[0m \u001b[0;31m#При попытке изменить элемент кортежа появляется ошибка\u001b[0m\u001b[0;34m\u001b[0m\u001b[0;34m\u001b[0m\u001b[0m\n\u001b[0;32m----> 2\u001b[0;31m \u001b[0mmy_tuple\u001b[0m\u001b[0;34m[\u001b[0m\u001b[0;36m0\u001b[0m\u001b[0;34m]\u001b[0m\u001b[0;34m=\u001b[0m\u001b[0;36m2\u001b[0m\u001b[0;34m\u001b[0m\u001b[0;34m\u001b[0m\u001b[0m\n\u001b[0m",
            "\u001b[0;31mTypeError\u001b[0m: 'tuple' object does not support item assignment"
          ]
        }
      ]
    },
    {
      "cell_type": "code",
      "source": [
        "\n",
        "\n",
        "# Пример логического выражения с использованием оператора сравнения\n",
        "x = 10\n",
        "y = 5\n",
        "\n",
        "if x > y:\n",
        "  print(\"x больше y\")\n",
        "\n",
        "\n",
        "# Пример логического выражения с использованием оператора равенства\n",
        "a = 5\n",
        "b = 5\n",
        "\n",
        "if a == b:\n",
        "  print(\"a равно b\")\n",
        "\n",
        "\n",
        "# Пример логического выражения с использованием оператора неравенства\n",
        "c = 10\n",
        "d = 20\n",
        "\n",
        "if c != d:\n",
        "  print(\"c не равно d\")\n",
        "\n",
        "\n",
        "# Пример логического выражения с использованием оператора and\n",
        "age = 25\n",
        "is_student = True\n",
        "\n",
        "if age > 18 and is_student:\n",
        "  print(\"Вы студент старше 18 лет\")\n",
        "\n",
        "\n",
        "# Пример логического выражения с использованием оператора or\n",
        "weather = \"солнечно\"\n",
        "temperature = 25\n",
        "\n",
        "if weather == \"солнечно\" or temperature > 20:\n",
        "  print(\"Хорошая погода\")\n",
        "\n",
        "\n",
        "# Пример логического выражения с использованием оператора not\n",
        "is_raining = False\n",
        "\n",
        "if not is_raining:\n",
        "  print(\"Не идет дождь\")\n",
        "\n",
        "\n",
        "#Пример else, elif\n",
        "if x > y:\n",
        "  print(\"x больше y\")\n",
        "elif x < y:\n",
        "  print(\"x меньше y\")\n",
        "else:\n",
        "  print(\"x равно y\")"
      ],
      "metadata": {
        "colab": {
          "base_uri": "https://localhost:8080/"
        },
        "id": "__cYCO8R5Wk5",
        "outputId": "c2e86e17-d50e-4690-bb5e-3e50084baa53"
      },
      "execution_count": null,
      "outputs": [
        {
          "output_type": "stream",
          "name": "stdout",
          "text": [
            "x больше y\n",
            "a равно b\n",
            "c не равно d\n",
            "Вы студент старше 18 лет\n",
            "Хорошая погода\n",
            "Не идет дождь\n",
            "x больше y\n"
          ]
        }
      ]
    },
    {
      "cell_type": "code",
      "source": [
        "\n",
        "\n",
        "# Цикл for для перебора элементов списка\n",
        "numbers = [1, 2, 3, 4, 5]\n",
        "for number in numbers:\n",
        "  print(number)\n",
        "\n",
        "\n",
        "# Цикл while для выполнения действий до тех пор, пока условие истинно\n",
        "count = 0\n",
        "while count < 5:\n",
        "  print(count)\n",
        "  count += 1\n",
        "\n",
        "\n",
        "# Цикл for с использованием функции range для генерации последовательности чисел\n",
        "for i in range(1, 6):\n",
        "  print(i)\n",
        "\n"
      ],
      "metadata": {
        "colab": {
          "base_uri": "https://localhost:8080/"
        },
        "id": "EajH23Hk5NhB",
        "outputId": "462a040c-5878-4975-8d6b-52b17a98892a"
      },
      "execution_count": null,
      "outputs": [
        {
          "output_type": "stream",
          "name": "stdout",
          "text": [
            "1\n",
            "2\n",
            "3\n",
            "4\n",
            "5\n",
            "0\n",
            "1\n",
            "2\n",
            "3\n",
            "4\n",
            "1\n",
            "2\n",
            "3\n",
            "4\n",
            "5\n"
          ]
        }
      ]
    },
    {
      "cell_type": "code",
      "source": [
        "\n",
        "\n",
        "def add(x, y):\n",
        "  \"\"\"Сложение двух чисел.\"\"\"\n",
        "  return x + y\n",
        "\n",
        "def subtract(x, y):\n",
        "  \"\"\"Вычитание двух чисел.\"\"\"\n",
        "  return x - y\n",
        "\n",
        "def multiply(x, y):\n",
        "  \"\"\"Умножение двух чисел.\"\"\"\n",
        "  return x * y\n",
        "\n",
        "def divide(x, y):\n",
        "  \"\"\"Деление двух чисел.\"\"\"\n",
        "  if y == 0:\n",
        "    return \"Деление на ноль!\"\n",
        "  return x / y\n",
        "\n",
        "def power(x, y):\n",
        "  \"\"\"Возведение числа в степень.\"\"\"\n",
        "  return x ** y\n",
        "\n",
        "def square_root(x):\n",
        "  \"\"\"Вычисление квадратного корня.\"\"\"\n",
        "  if x < 0:\n",
        "    return \"Квадратный корень из отрицательного числа не существует!\"\n",
        "  return x ** 0.5\n"
      ],
      "metadata": {
        "id": "oNK3KrgH514g"
      },
      "execution_count": null,
      "outputs": []
    },
    {
      "cell_type": "markdown",
      "source": [],
      "metadata": {
        "id": "1f_BeG3cCwBO"
      }
    },
    {
      "cell_type": "code",
      "source": [
        "power(5, 4)"
      ],
      "metadata": {
        "colab": {
          "base_uri": "https://localhost:8080/"
        },
        "id": "BJcly41N5-UG",
        "outputId": "2867bc18-9738-4ebd-f93a-98f7eb739879"
      },
      "execution_count": null,
      "outputs": [
        {
          "output_type": "execute_result",
          "data": {
            "text/plain": [
              "625"
            ]
          },
          "metadata": {},
          "execution_count": 32
        }
      ]
    },
    {
      "cell_type": "code",
      "source": [
        "\n"
      ],
      "metadata": {
        "id": "HnQ3poHLElBa"
      },
      "execution_count": null,
      "outputs": []
    }
  ]
}