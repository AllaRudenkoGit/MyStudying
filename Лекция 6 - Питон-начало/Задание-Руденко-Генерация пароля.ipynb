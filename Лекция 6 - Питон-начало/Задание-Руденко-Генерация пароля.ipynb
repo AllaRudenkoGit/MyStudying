{
  "cells": [
    {
      "cell_type": "markdown",
      "metadata": {
        "id": "view-in-github",
        "colab_type": "text"
      },
      "source": [
        "<a href=\"https://colab.research.google.com/github/AllaRudenkoGit/MyStudying/blob/main/%D0%9B%D0%B5%D0%BA%D1%86%D0%B8%D1%8F%206%20-%20%D0%9F%D0%B8%D1%82%D0%BE%D0%BD-%D0%BD%D0%B0%D1%87%D0%B0%D0%BB%D0%BE/%D0%97%D0%B0%D0%B4%D0%B0%D0%BD%D0%B8%D0%B5-%D0%A0%D1%83%D0%B4%D0%B5%D0%BD%D0%BA%D0%BE-%D0%93%D0%B5%D0%BD%D0%B5%D1%80%D0%B0%D1%86%D0%B8%D1%8F%20%D0%BF%D0%B0%D1%80%D0%BE%D0%BB%D1%8F.ipynb\" target=\"_parent\"><img src=\"https://colab.research.google.com/assets/colab-badge.svg\" alt=\"Open In Colab\"/></a>"
      ]
    },
    {
      "cell_type": "code",
      "source": [
        "def generate_password (length):\n",
        "  charecters = numerals + letters + Capital_letters + signs\n",
        "  numerals = [1,2,3,4,5,6,7,8,9]\n",
        "  letters = [\"a\",\"b\",\"c\",\"d\",\"e\",\"f\",\"g\",\"h\",\"i\",\"j\"]\n",
        "  Capital_letters = [\"A\",\"B\",\"C\",\"D\",\"E\",\"F\",\"G\",\"H\",\"I\",\"J\"]\n",
        "  signs = [\"!\",\"@\",\"#\",\"$\",\"%\",\"^\",\"&\",\"*\",\"_\",\"+\",\"=\"]\n",
        "  password = ''.join(random.choice(charecters) for _ in range (length))\n",
        "  return password\n",
        "  password_length = int(input(\"Введите желаемую длину пароля: \"))\n",
        "  generated_password = generate_password(password_length)\n",
        "  print(\"Ваш сгенерированный пароль:\",generated_password)"
      ],
      "metadata": {
        "colab": {
          "base_uri": "https://localhost:8080/",
          "height": 106
        },
        "id": "VVe1tnnf4Ysi",
        "outputId": "669421ca-f1c6-4ffb-9c03-b3fce80c80ab"
      },
      "execution_count": null,
      "outputs": [
        {
          "output_type": "error",
          "ename": "IndentationError",
          "evalue": "unexpected indent (ipython-input-3127596664.py, line 10)",
          "traceback": [
            "\u001b[0;36m  File \u001b[0;32m\"/tmp/ipython-input-3127596664.py\"\u001b[0;36m, line \u001b[0;32m10\u001b[0m\n\u001b[0;31m    generated_password = generate_password(password_length)\u001b[0m\n\u001b[0m    ^\u001b[0m\n\u001b[0;31mIndentationError\u001b[0m\u001b[0;31m:\u001b[0m unexpected indent\n"
          ]
        }
      ]
    },
    {
      "cell_type": "code",
      "source": [
        "import random\n",
        "import string"
      ],
      "metadata": {
        "id": "1IfjHIdvph1q"
      },
      "execution_count": 1,
      "outputs": []
    },
    {
      "cell_type": "code",
      "source": [
        "def generate_password(length:int) -> str:\n",
        "  all_chars = string.ascii_letters + string.digits + string.punctuation\n",
        "  password_list = random.choices(all_chars, k=length)\n",
        "  return \"\".join(password_list)\n",
        "  print(password_list)"
      ],
      "metadata": {
        "id": "7kbfswwc8I0k"
      },
      "execution_count": 2,
      "outputs": []
    }
  ],
  "metadata": {
    "colab": {
      "name": "Добро пожаловать в Colab!",
      "provenance": [],
      "include_colab_link": true
    },
    "kernelspec": {
      "display_name": "Python 3",
      "name": "python3"
    }
  },
  "nbformat": 4,
  "nbformat_minor": 0
}